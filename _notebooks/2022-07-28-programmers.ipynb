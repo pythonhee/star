{
  "nbformat": 4,
  "nbformat_minor": 0,
  "metadata": {
    "colab": {
      "name": "2022-7-28-programmers.ipynb",
      "provenance": []
    },
    "kernelspec": {
      "name": "python3",
      "display_name": "Python 3"
    },
    "language_info": {
      "name": "python"
    }
  },
  "cells": [
    {
      "cell_type": "markdown",
      "source": [
        "# Level 1 신고 결과 받기\n",
        "- https://school.programmers.co.kr/learn/courses/30/lessons/92334?language=python3"
      ],
      "metadata": {
        "id": "To3OaQ4CU5j9"
      }
    },
    {
      "cell_type": "code",
      "source": [
        "def solution(id_list, report, k):\n",
        "  black_list = {}\n",
        "  mail_list = {}  \n",
        "  answer = []\n",
        "      \n",
        "  report = list(set(report))\n",
        "      \n",
        "  for a in report:\n",
        "          b, i = a.split()\n",
        "          if i not in black_list.keys():\n",
        "              black_list[i] = 1\n",
        "          else:\n",
        "              black_list[i] += 1\n",
        "\n",
        "  for i in id_list:\n",
        "    mail_list[i] = 0\n",
        "              \n",
        "  for i in report:\n",
        "          a, b = i.split()\n",
        "          if b in black_list.keys() and black_list[b] >= k:\n",
        "                  mail_list[a] += 1\n",
        "                  \n",
        "  for i,v in mail_list.items():\n",
        "          answer.append(v)\n",
        "          \n",
        "  return answer "
      ],
      "metadata": {
        "id": "QdiabA91U1OM"
      },
      "execution_count": 3,
      "outputs": []
    },
    {
      "cell_type": "code",
      "source": [
        "id_list = [\"muzi\", \"frodo\", \"apeach\", \"neo\"]\n",
        "report = [\"muzi frodo\",\"apeach frodo\",\"frodo neo\",\"muzi neo\",\"apeach muzi\"]\n",
        "k = 2\n",
        "\n",
        "solution(id_list, report, k)"
      ],
      "metadata": {
        "colab": {
          "base_uri": "https://localhost:8080/"
        },
        "id": "DkqqD8nkVwoF",
        "outputId": "c69f2d40-8629-410b-8d24-430fe051b701"
      },
      "execution_count": 4,
      "outputs": [
        {
          "output_type": "execute_result",
          "data": {
            "text/plain": [
              "[2, 1, 1, 0]"
            ]
          },
          "metadata": {},
          "execution_count": 4
        }
      ]
    },
    {
      "cell_type": "code",
      "source": [
        "id_list = [\"con\", \"ryan\"]\n",
        "report = [\"ryan con\", \"ryan con\", \"ryan con\", \"ryan con\"]\n",
        "k = 2\n",
        "\n",
        "solution(id_list, report, k)"
      ],
      "metadata": {
        "colab": {
          "base_uri": "https://localhost:8080/"
        },
        "id": "cAJpDJopWHFf",
        "outputId": "e9ef5721-d23b-42d3-ac14-02b39460f184"
      },
      "execution_count": 5,
      "outputs": [
        {
          "output_type": "execute_result",
          "data": {
            "text/plain": [
              "[0, 0]"
            ]
          },
          "metadata": {},
          "execution_count": 5
        }
      ]
    },
    {
      "cell_type": "code",
      "source": [
        ""
      ],
      "metadata": {
        "id": "FBfd33yCWLJI"
      },
      "execution_count": null,
      "outputs": []
    }
  ]
}